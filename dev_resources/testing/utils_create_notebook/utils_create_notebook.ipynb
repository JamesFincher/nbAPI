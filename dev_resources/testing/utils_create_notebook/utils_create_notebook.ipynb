{
 "cells": [
  {
   "attachments": {},
   "cell_type": "markdown",
   "metadata": {},
   "source": [
    "## Checking to ensure the create_notebook module is working as expected."
   ]
  },
  {
   "attachments": {},
   "cell_type": "markdown",
   "metadata": {},
   "source": [
    "### Import statement"
   ]
  },
  {
   "cell_type": "code",
   "execution_count": 13,
   "metadata": {},
   "outputs": [],
   "source": [
    "from create_notebook import create_notebook_from_file, create_notebook"
   ]
  },
  {
   "attachments": {},
   "cell_type": "markdown",
   "metadata": {},
   "source": [
    "### Test the create_notebook_from_file function. Should generate a properly formatted, randomly named file in this testing dir."
   ]
  },
  {
   "cell_type": "code",
   "execution_count": null,
   "metadata": {},
   "outputs": [
    {
     "data": {
      "text/plain": [
       "'Notebook_1683256311_CFEB0B.ipynb'"
      ]
     },
     "metadata": {},
     "output_type": "display_data"
    }
   ],
   "source": [
    "create_notebook_from_file('../sample.txt', 'output.ipynb')"
   ]
  },
  {
   "attachments": {},
   "cell_type": "markdown",
   "metadata": {},
   "source": [
    "### Test the create_notebook function. Should generate a properly formatted, randomly named file in this testing dir."
   ]
  },
  {
   "cell_type": "code",
   "execution_count": 14,
   "metadata": {},
   "outputs": [
    {
     "data": {
      "text/plain": [
       "'Notebook_1683257626_A44BB2.ipynb'"
      ]
     },
     "execution_count": 14,
     "metadata": {},
     "output_type": "execute_result"
    }
   ],
   "source": [
    "create_notebook(\"\"\"# Code Examples using os module in Python\n",
    "\n",
    "## Example 1: Get the current working directory using the `os` module\n",
    "\n",
    "```python\n",
    "import os\n",
    "\n",
    "current_working_directory = os.getcwd()\n",
    "print(f\"Current working directory is: {current_working_directory}\")\n",
    "```\n",
    "\n",
    "## Example 2: Change the current working directory using the `os` module\n",
    "\n",
    "```python\n",
    "import os\n",
    "\n",
    "path = \"/your/desired/directory\"\n",
    "os.chdir(path)\n",
    "\n",
    "current_working_directory = os.getcwd()\n",
    "print(f\"Updated current working directory is: {current_working_directory}\")\n",
    "```\n",
    "\n",
    "## Example 3: List files and folders in a directory using the `os` module\n",
    "\n",
    "```python\n",
    "import os\n",
    "\n",
    "path = \"/your/desired/directory\"\n",
    "\n",
    "files_and_folders = os.listdir(path)\n",
    "print(f\"Files and folders in the directory: {files_and_folders}\")\n",
    "```\n",
    "\n",
    "## Example 4: Create a new directory using the `os` module\n",
    "\n",
    "```python\n",
    "import os\n",
    "\n",
    "new_directory = \"new_folder\"\n",
    "os.mkdir(new_directory)\n",
    "print(f\"Created new directory '{new_directory}'\")\n",
    "```\n",
    "\n",
    "## Example 5: Delete a directory using the `os` module\n",
    "\n",
    "```python\n",
    "import os\n",
    "\n",
    "directory_to_delete = \"directory_to_remove\"\n",
    "os.rmdir(directory_to_delete)\n",
    "print(f\"Deleted directory '{directory_to_delete}'\")\n",
    "```\n",
    "\n",
    "## Example 6: Create a file using the `os` module\n",
    "\n",
    "```python\n",
    "import os\n",
    "\n",
    "file_name = \"file.txt\"\n",
    "with open(file_name, \"w\") as file:\n",
    "    file.write(\"This is a test file.\")\n",
    "\n",
    "print(f\"Created file '{file_name}'\")\n",
    "```\n",
    "\n",
    "## Example 7: Delete a file using the `os` module\n",
    "\n",
    "```python\n",
    "import os\n",
    "\n",
    "file_to_delete = \"file.txt\"\n",
    "\n",
    "if os.path.isfile(file_to_delete):\n",
    "    os.remove(file_to_delete)\n",
    "    print(f\"Deleted file '{file_to_delete}'\")\n",
    "else:\n",
    "    print(f\"File '{file_to_delete}' does not exist.\")\n",
    "```\n",
    "\n",
    "## Example 8: Check if a file or directory exists using the `os` module\n",
    "\n",
    "```python\n",
    "import os\n",
    "\n",
    "path = \"file.txt\"\n",
    "\n",
    "if os.path.exists(path):\n",
    "    print(f\"{path} exists.\")\n",
    "else:\n",
    "    print(f\"{path} does not exist.\")\n",
    "```\n",
    "\n",
    "## Example 9: Get the base filename and extension using the `os` module\n",
    "\n",
    "```python\n",
    "import os\n",
    "\n",
    "file_path = \"example/test_folder/testfile.txt\"\n",
    "\n",
    "file_name, file_extension = os.path.splitext(file_path)\n",
    "print(f\"Filename: {file_name}\\nFile extension: {file_extension}\")\n",
    "```\n",
    "\n",
    "## Example 10: Get the size of a file using the `os` module\n",
    "\n",
    "```python\n",
    "import os\n",
    "\n",
    "file_path = \"/path/to/your/file.txt\"\n",
    "\n",
    "file_size = os.path.getsize(file_path)\n",
    "print(f\"Size of the file '{file_path}' is {file_size} bytes\")\n",
    "```\n",
    "\"\"\")"
   ]
  }
 ],
 "metadata": {
  "kernelspec": {
   "display_name": "Python 3",
   "language": "python",
   "name": "python3"
  },
  "language_info": {
   "codemirror_mode": {
    "name": "ipython",
    "version": 3
   },
   "file_extension": ".py",
   "mimetype": "text/x-python",
   "name": "python",
   "nbconvert_exporter": "python",
   "pygments_lexer": "ipython3",
   "version": "3.11.3"
  },
  "orig_nbformat": 4
 },
 "nbformat": 4,
 "nbformat_minor": 2
}
