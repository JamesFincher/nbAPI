{
 "cells": [
  {
   "cell_type": "markdown",
   "id": "f8ac90d4",
   "metadata": {},
   "source": [
    "# Code Examples using os module in Python\n",
    "\n",
    "## Example 1: Get the current working directory using the `os` module\n"
   ]
  },
  {
   "cell_type": "code",
   "execution_count": null,
   "id": "f5eab58c",
   "metadata": {},
   "outputs": [],
   "source": [
    "import os\n",
    "\n",
    "current_working_directory = os.getcwd()\n",
    "print(f\"Current working directory is: {current_working_directory}\")"
   ]
  },
  {
   "cell_type": "markdown",
   "id": "fd3b8b5a",
   "metadata": {},
   "source": [
    "\n",
    "## Example 2: Change the current working directory using the `os` module\n"
   ]
  },
  {
   "cell_type": "code",
   "execution_count": null,
   "id": "f810e44c",
   "metadata": {},
   "outputs": [],
   "source": [
    "import os\n",
    "\n",
    "path = \"/your/desired/directory\"\n",
    "os.chdir(path)\n",
    "\n",
    "current_working_directory = os.getcwd()\n",
    "print(f\"Updated current working directory is: {current_working_directory}\")"
   ]
  },
  {
   "cell_type": "markdown",
   "id": "884058d7",
   "metadata": {},
   "source": [
    "\n",
    "## Example 3: List files and folders in a directory using the `os` module\n"
   ]
  },
  {
   "cell_type": "code",
   "execution_count": null,
   "id": "a3be673f",
   "metadata": {},
   "outputs": [],
   "source": [
    "import os\n",
    "\n",
    "path = \"/your/desired/directory\"\n",
    "\n",
    "files_and_folders = os.listdir(path)\n",
    "print(f\"Files and folders in the directory: {files_and_folders}\")"
   ]
  },
  {
   "cell_type": "markdown",
   "id": "06283ad1",
   "metadata": {},
   "source": [
    "\n",
    "## Example 4: Create a new directory using the `os` module\n"
   ]
  },
  {
   "cell_type": "code",
   "execution_count": null,
   "id": "98b20fe9",
   "metadata": {},
   "outputs": [],
   "source": [
    "import os\n",
    "\n",
    "new_directory = \"new_folder\"\n",
    "os.mkdir(new_directory)\n",
    "print(f\"Created new directory '{new_directory}'\")"
   ]
  },
  {
   "cell_type": "markdown",
   "id": "af827782",
   "metadata": {},
   "source": [
    "\n",
    "## Example 5: Delete a directory using the `os` module\n"
   ]
  },
  {
   "cell_type": "code",
   "execution_count": null,
   "id": "5e81f5ac",
   "metadata": {},
   "outputs": [],
   "source": [
    "import os\n",
    "\n",
    "directory_to_delete = \"directory_to_remove\"\n",
    "os.rmdir(directory_to_delete)\n",
    "print(f\"Deleted directory '{directory_to_delete}'\")"
   ]
  },
  {
   "cell_type": "markdown",
   "id": "b2e599f6",
   "metadata": {},
   "source": [
    "\n",
    "## Example 6: Create a file using the `os` module\n"
   ]
  },
  {
   "cell_type": "code",
   "execution_count": null,
   "id": "f1db9148",
   "metadata": {},
   "outputs": [],
   "source": [
    "import os\n",
    "\n",
    "file_name = \"file.txt\"\n",
    "with open(file_name, \"w\") as file:\n",
    "    file.write(\"This is a test file.\")\n",
    "\n",
    "print(f\"Created file '{file_name}'\")"
   ]
  },
  {
   "cell_type": "markdown",
   "id": "8fc4ed4a",
   "metadata": {},
   "source": [
    "\n",
    "## Example 7: Delete a file using the `os` module\n"
   ]
  },
  {
   "cell_type": "code",
   "execution_count": null,
   "id": "269515ab",
   "metadata": {},
   "outputs": [],
   "source": [
    "import os\n",
    "\n",
    "file_to_delete = \"file.txt\"\n",
    "\n",
    "if os.path.isfile(file_to_delete):\n",
    "    os.remove(file_to_delete)\n",
    "    print(f\"Deleted file '{file_to_delete}'\")\n",
    "else:\n",
    "    print(f\"File '{file_to_delete}' does not exist.\")"
   ]
  },
  {
   "cell_type": "markdown",
   "id": "4cd6f269",
   "metadata": {},
   "source": [
    "\n",
    "## Example 8: Check if a file or directory exists using the `os` module\n"
   ]
  },
  {
   "cell_type": "code",
   "execution_count": null,
   "id": "137c952c",
   "metadata": {},
   "outputs": [],
   "source": [
    "import os\n",
    "\n",
    "path = \"file.txt\"\n",
    "\n",
    "if os.path.exists(path):\n",
    "    print(f\"{path} exists.\")\n",
    "else:\n",
    "    print(f\"{path} does not exist.\")"
   ]
  },
  {
   "cell_type": "markdown",
   "id": "7eb3e3ab",
   "metadata": {},
   "source": [
    "\n",
    "## Example 9: Get the base filename and extension using the `os` module\n"
   ]
  },
  {
   "cell_type": "code",
   "execution_count": null,
   "id": "189482c4",
   "metadata": {},
   "outputs": [],
   "source": [
    "import os\n",
    "\n",
    "file_path = \"example/test_folder/testfile.txt\"\n",
    "\n",
    "file_name, file_extension = os.path.splitext(file_path)\n",
    "print(f\"Filename: {file_name}\n",
    "File extension: {file_extension}\")"
   ]
  },
  {
   "cell_type": "markdown",
   "id": "aa302355",
   "metadata": {},
   "source": [
    "\n",
    "## Example 10: Get the size of a file using the `os` module\n"
   ]
  },
  {
   "cell_type": "code",
   "execution_count": null,
   "id": "fa9920b8",
   "metadata": {},
   "outputs": [],
   "source": [
    "import os\n",
    "\n",
    "file_path = \"/path/to/your/file.txt\"\n",
    "\n",
    "file_size = os.path.getsize(file_path)\n",
    "print(f\"Size of the file '{file_path}' is {file_size} bytes\")"
   ]
  }
 ],
 "metadata": {},
 "nbformat": 4,
 "nbformat_minor": 5
}
