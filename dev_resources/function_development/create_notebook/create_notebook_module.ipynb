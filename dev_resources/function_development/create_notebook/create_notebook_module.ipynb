{
 "cells": [
  {
   "attachments": {},
   "cell_type": "markdown",
   "metadata": {},
   "source": [
    "The goal of this file is to develop a module that dedicated to parsing the markdown into notebooks. Currently the logic is built into the main.py which isn't ideal."
   ]
  },
  {
   "cell_type": "code",
   "execution_count": 7,
   "metadata": {},
   "outputs": [],
   "source": [
    "import nbformat as nbf\n",
    "\n",
    "def create_notebook(text_content, output_file):\n",
    "    # Initialize notebook object\n",
    "    nb = nbf.v4.new_notebook()\n",
    "\n",
    "    # Process the text content\n",
    "    lines = text_content.split(\"\\n\")\n",
    "    in_code_block = False\n",
    "    code_lines = []\n",
    "    markdown_lines = []\n",
    "\n",
    "    for line in lines:\n",
    "        if not in_code_block and \"```python\" in line:\n",
    "            in_code_block = True\n",
    "            if markdown_lines:\n",
    "                markdown_cell = nbf.v4.new_markdown_cell(\"\\n\".join(markdown_lines))\n",
    "                nb.cells.append(markdown_cell)\n",
    "                markdown_lines.clear()\n",
    "        elif in_code_block and \"```\" in line:\n",
    "            in_code_block = False\n",
    "            if code_lines:\n",
    "                code_cell = nbf.v4.new_code_cell(\"\\n\".join(code_lines))\n",
    "                nb.cells.append(code_cell)\n",
    "                code_lines.clear()\n",
    "        elif in_code_block:\n",
    "            code_lines.append(line)\n",
    "        else:\n",
    "            markdown_lines.append(line)\n",
    "\n",
    "    # Save the notebook\n",
    "    with open(output_file, \"w\", encoding=\"utf-8\") as f:\n",
    "        nbf.write(nb, f)\n",
    "\n",
    "def create_notebook_from_file(text_file, output_file):\n",
    "    with open(text_file, \"r\", encoding=\"utf-8\") as f:\n",
    "        text_content = f.read()\n",
    "    create_notebook(text_content, output_file)\n",
    "\n",
    "# Example usage:\n",
    "# create_notebook_from_file(\"input.txt\", \"output.ipynb\")\n"
   ]
  },
  {
   "cell_type": "code",
   "execution_count": 14,
   "metadata": {},
   "outputs": [],
   "source": [
    "test = create_notebook_from_file(\"../sample.txt\", \"sample.ipynb\")"
   ]
  },
  {
   "cell_type": "code",
   "execution_count": 8,
   "metadata": {},
   "outputs": [
    {
     "name": "stdout",
     "output_type": "stream",
     "text": [
      "None\n"
     ]
    }
   ],
   "source": [
    "print(test)"
   ]
  },
  {
   "cell_type": "code",
   "execution_count": 5,
   "metadata": {},
   "outputs": [],
   "source": [
    "text = \"\"\"# Summary of Notebook\n",
    "\n",
    "## Example 1: Getting the current time\n",
    "\n",
    "In this example, we will learn how to get the current time using the time module in Python.\n",
    "\n",
    "```python\n",
    "import time\n",
    "\n",
    "current_time = time.time()\n",
    "\n",
    "print(\"Current Time:\", current_time)\n",
    "```\n",
    "\n",
    "## Example 2: Converting timestamp to a structured time\n",
    "\n",
    "In this example, we will learn how to convert a timestamp to a structured time using the time module in Python.\n",
    "\n",
    "```python\n",
    "import time\n",
    "\n",
    "timestamp = 1628698080\n",
    "\n",
    "structured_time = time.gmtime(timestamp)\n",
    "\n",
    "print(\"Structured Time:\", structured_time)\n",
    "```\n",
    "\n",
    "## Example 3: Formatting the current time as a string\n",
    "\n",
    "In this example, we'll learn how to use the time module in Python to display the current time in human-readable format.\n",
    "\n",
    "```python\n",
    "import time\n",
    "\n",
    "current_time = time.localtime()\n",
    "\n",
    "formatted_time = time.strftime(\"%Y-%m-%d %H:%M:%S\", current_time)\n",
    "\n",
    "print(\"Current Time Formatted:\", formatted_time)\n",
    "```\n",
    "\n",
    "## Example 4: Sleeping (pausing) for a specified amount of time\n",
    "\n",
    "In this example, we will learn how to use the time module in Python to add a delay in the execution of our program.\n",
    "\n",
    "```python\n",
    "import time\n",
    "\n",
    "print(\"Start\")\n",
    "\n",
    "time.sleep(5)  # Number of seconds to pause the execution\n",
    "\n",
    "print(\"End\")\n",
    "```\n",
    "\n",
    "## Example 5: Measuring the execution time of a Python code\n",
    "\n",
    "In this example, we will learn how to use the time module in Python to measure the time taken to execute a Python code.\n",
    "\n",
    "```python\n",
    "import time\n",
    "\n",
    "start_time = time.time()\n",
    "\n",
    "# Your code here\n",
    "result = 0\n",
    "for i in range(1000000):\n",
    "    result += i\n",
    "\n",
    "end_time = time.time()\n",
    "\n",
    "print(\"Execution Time:\", end_time - start_time)\n",
    "```\"\"\""
   ]
  },
  {
   "cell_type": "code",
   "execution_count": 8,
   "metadata": {},
   "outputs": [],
   "source": [
    "create_notebook(text, \"sample2.ipynb\")"
   ]
  }
 ],
 "metadata": {
  "kernelspec": {
   "display_name": "Python 3",
   "language": "python",
   "name": "python3"
  },
  "language_info": {
   "codemirror_mode": {
    "name": "ipython",
    "version": 3
   },
   "file_extension": ".py",
   "mimetype": "text/x-python",
   "name": "python",
   "nbconvert_exporter": "python",
   "pygments_lexer": "ipython3",
   "version": "3.11.3"
  },
  "orig_nbformat": 4
 },
 "nbformat": 4,
 "nbformat_minor": 2
}
