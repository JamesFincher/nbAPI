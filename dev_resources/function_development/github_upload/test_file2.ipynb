{
 "cells": [
  {
   "cell_type": "markdown",
   "id": "2293be7b",
   "metadata": {},
   "source": [
    "# Summary of Notebook\n",
    "\n",
    "## Example 1: Getting the current time\n",
    "\n",
    "In this example, we will learn how to get the current time using the time module in Python.\n"
   ]
  },
  {
   "cell_type": "code",
   "execution_count": null,
   "id": "6b49b6ec",
   "metadata": {},
   "outputs": [],
   "source": [
    "import time\n",
    "\n",
    "current_time = time.time()\n",
    "\n",
    "print(\"Current Time:\", current_time)"
   ]
  },
  {
   "cell_type": "markdown",
   "id": "fd552b06",
   "metadata": {},
   "source": [
    "\n",
    "## Example 2: Converting timestamp to a structured time\n",
    "\n",
    "In this example, we will learn how to convert a timestamp to a structured time using the time module in Python.\n"
   ]
  },
  {
   "cell_type": "code",
   "execution_count": null,
   "id": "6c48a208",
   "metadata": {},
   "outputs": [],
   "source": [
    "import time\n",
    "\n",
    "timestamp = 1628698080\n",
    "\n",
    "structured_time = time.gmtime(timestamp)\n",
    "\n",
    "print(\"Structured Time:\", structured_time)"
   ]
  },
  {
   "cell_type": "markdown",
   "id": "60ea8dd8",
   "metadata": {},
   "source": [
    "\n",
    "## Example 3: Formatting the current time as a string\n",
    "\n",
    "In this example, we'll learn how to use the time module in Python to display the current time in human-readable format.\n"
   ]
  },
  {
   "cell_type": "code",
   "execution_count": null,
   "id": "9d4c140e",
   "metadata": {},
   "outputs": [],
   "source": [
    "import time\n",
    "\n",
    "current_time = time.localtime()\n",
    "\n",
    "formatted_time = time.strftime(\"%Y-%m-%d %H:%M:%S\", current_time)\n",
    "\n",
    "print(\"Current Time Formatted:\", formatted_time)"
   ]
  },
  {
   "cell_type": "markdown",
   "id": "9ff7513b",
   "metadata": {},
   "source": [
    "\n",
    "## Example 4: Sleeping (pausing) for a specified amount of time\n",
    "\n",
    "In this example, we will learn how to use the time module in Python to add a delay in the execution of our program.\n"
   ]
  },
  {
   "cell_type": "code",
   "execution_count": null,
   "id": "1510a0f1",
   "metadata": {},
   "outputs": [],
   "source": [
    "import time\n",
    "\n",
    "print(\"Start\")\n",
    "\n",
    "time.sleep(5)  # Number of seconds to pause the execution\n",
    "\n",
    "print(\"End\")"
   ]
  },
  {
   "cell_type": "markdown",
   "id": "0dda2168",
   "metadata": {},
   "source": [
    "\n",
    "## Example 5: Measuring the execution time of a Python code\n",
    "\n",
    "In this example, we will learn how to use the time module in Python to measure the time taken to execute a Python code.\n"
   ]
  },
  {
   "cell_type": "code",
   "execution_count": null,
   "id": "7b1b7917",
   "metadata": {},
   "outputs": [],
   "source": [
    "import time\n",
    "\n",
    "start_time = time.time()\n",
    "\n",
    "# Your code here\n",
    "result = 0\n",
    "for i in range(1000000):\n",
    "    result += i\n",
    "\n",
    "end_time = time.time()\n",
    "\n",
    "print(\"Execution Time:\", end_time - start_time)"
   ]
  }
 ],
 "metadata": {},
 "nbformat": 4,
 "nbformat_minor": 5
}
