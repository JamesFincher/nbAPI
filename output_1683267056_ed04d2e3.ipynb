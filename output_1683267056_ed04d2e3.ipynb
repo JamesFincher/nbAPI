{
 "cells": [
  {
   "cell_type": "markdown",
   "id": "d602c499",
   "metadata": {},
   "source": [
    "<h1>Code Examples using os module in Python  ## Example 1: Get the current working directory using the `os` module  ```python import os  current_working_directory = os.getcwd() print(f\"Current working directory is: {current_working_directory}\") ```  ## Example 2: Change the current working directory using the `os` module  ```python import os  path = \"/your/desired/directory\" os.chdir(path)  current_working_directory = os.getcwd() print(f\"Updated current working directory is: {current_working_directory}\") ```  ## Example 3: List files and folders in a directory using the `os` module  ```python import os  path = \"/your/desired/directory\"  files_and_folders = os.listdir(path) print(f\"Files and folders in the directory: {files_and_folders}\") ```  ## Example 4: Create a new directory using the `os` module  ```python import os  new_directory = \"new_folder\" os.mkdir(new_directory) print(f\"Created new directory '{new_directory}'\") ```  ## Example 5: Delete a directory using the `os` module  ```python import os  directory_to_delete = \"directory_to_remove\" os.rmdir(directory_to_delete) print(f\"Deleted directory '{directory_to_delete}'\") ```  ## Example 6: Create a file using the `os` module  ```python import os  file_name = \"file.txt\" with open(file_name, \"w\") as file:     file.write(\"This is a test file.\")  print(f\"Created file '{file_name}'\") ```  ## Example 7: Delete a file using the `os` module  ```python import os  file_to_delete = \"file.txt\"  if os.path.isfile(file_to_delete):     os.remove(file_to_delete)     print(f\"Deleted file '{file_to_delete}'\") else:     print(f\"File '{file_to_delete}' does not exist.\") ```  ## Example 8: Check if a file or directory exists using the `os` module  ```python import os  path = \"file.txt\"  if os.path.exists(path):     print(f\"{path} exists.\") else:     print(f\"{path} does not exist.\") ```  ## Example 9: Get the base filename and extension using the `os` module  ```python import os  file_path = \"example/test_folder/testfile.txt\"  file_name, file_extension = os.path.splitext(file_path) print(f\"Filename: {file_name}\\nFile extension: {file_extension}\") ```  ## Example 10: Get the size of a file using the `os` module  ```python import os  file_path = \"/path/to/your/file.txt\"  file_size = os.path.getsize(file_path) print(f\"Size of the file '{file_path}' is {file_size} bytes\") ```</h1>\n"
   ]
  }
 ],
 "metadata": {},
 "nbformat": 4,
 "nbformat_minor": 5
}
